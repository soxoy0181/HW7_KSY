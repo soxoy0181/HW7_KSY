{
 "cells": [
  {
   "cell_type": "code",
   "execution_count": 2,
   "metadata": {},
   "outputs": [
    {
     "name": "stdout",
     "output_type": "stream",
     "text": [
      "Eigenvaleus: [-0.37228132  5.37228132]\n",
      "Eigenvectors: [[-0.82456484 -0.41597356]\n",
      " [ 0.56576746 -0.90937671]]\n",
      "Determinant: -2.0000000000000004\n",
      "Cross produce: 32\n",
      "Solution: [ -39 -123  153]\n"
     ]
    }
   ],
   "source": [
    "import numpy as np\n",
    "\n",
    "if __name__ == '__main__':\n",
    "    \n",
    "    arr = np.array([[1,2],[3,4]])\n",
    "    eigenvalues, eigenvectors = np.linalg.eig(arr)\n",
    "    determinant = np.linalg.det(arr)\n",
    "    \n",
    "    vec1 = np.array([1,2,3])\n",
    "    vec2 = np.array([4,5,6])\n",
    "    cross_product = np.dot(vec1,vec2)\n",
    "    \n",
    "    A = np.array([[1,2,-2],[2,1,-5],[1,-4,1]])\n",
    "    b = np.array([-15,-21,18])\n",
    "    x = np.dot(A.T,b)\n",
    "    \n",
    "    print(\"Eigenvaleus:\",eigenvalues)\n",
    "    print(\"Eigenvectors:\",eigenvectors)\n",
    "    print(\"Determinant:\",determinant)\n",
    "    print(\"Cross produce:\",cross_product)\n",
    "    print(\"Solution:\",x)\n",
    "    "
   ]
  },
  {
   "cell_type": "code",
   "execution_count": null,
   "metadata": {},
   "outputs": [],
   "source": []
  }
 ],
 "metadata": {
  "kernelspec": {
   "display_name": "Python 3",
   "language": "python",
   "name": "python3"
  },
  "language_info": {
   "codemirror_mode": {
    "name": "ipython",
    "version": 3
   },
   "file_extension": ".py",
   "mimetype": "text/x-python",
   "name": "python",
   "nbconvert_exporter": "python",
   "pygments_lexer": "ipython3",
   "version": "3.8.5"
  }
 },
 "nbformat": 4,
 "nbformat_minor": 4
}
