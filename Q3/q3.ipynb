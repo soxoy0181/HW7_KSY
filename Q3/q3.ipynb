{
 "cells": [
  {
   "cell_type": "code",
   "execution_count": 6,
   "metadata": {},
   "outputs": [
    {
     "name": "stdout",
     "output_type": "stream",
     "text": [
      "        unit price  number\n",
      "store1        1000      25\n",
      "store2         280     120\n",
      "store3         900      30\n",
      "        unit price  number  total price\n",
      "store1        1000      25        25000\n",
      "store2         280     120        33600\n",
      "store3         900      30        27000\n",
      "        unit price  number  total price\n",
      "store2         280     120        33600\n",
      "store3         900      30        27000\n"
     ]
    }
   ],
   "source": [
    "import numpy as np\n",
    "import pandas as pd\n",
    "\n",
    "if __name__ == '__main__':\n",
    "    \n",
    "    data = np.array([[1000,25],[280,120],[900,30]])\n",
    "    df = pd.DataFrame(data, index=['store1','store2','store3'], columns=['unit price','number'])\n",
    "    print(df)\n",
    "    \n",
    "    df['total price'] = df['unit price'] * df['number']\n",
    "    print(df)\n",
    "    \n",
    "    sorted_df = df.sort_values(by=\"total price\", ascending=False)\n",
    "    print(sorted_df.head(2))"
   ]
  },
  {
   "cell_type": "code",
   "execution_count": null,
   "metadata": {},
   "outputs": [],
   "source": []
  }
 ],
 "metadata": {
  "kernelspec": {
   "display_name": "Python 3",
   "language": "python",
   "name": "python3"
  },
  "language_info": {
   "codemirror_mode": {
    "name": "ipython",
    "version": 3
   },
   "file_extension": ".py",
   "mimetype": "text/x-python",
   "name": "python",
   "nbconvert_exporter": "python",
   "pygments_lexer": "ipython3",
   "version": "3.8.5"
  }
 },
 "nbformat": 4,
 "nbformat_minor": 4
}
